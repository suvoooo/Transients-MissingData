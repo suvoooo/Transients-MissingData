{
 "cells": [
  {
   "cell_type": "code",
   "execution_count": 2,
   "id": "98398fed",
   "metadata": {},
   "outputs": [],
   "source": [
    "import numpy as np\n",
    "import pandas as pd\n",
    "import torch\n",
    "import torch.nn as nn\n",
    "import matplotlib.pyplot as plt\n",
    "import os\n",
    "import sys\n",
    "from tqdm import tqdm\n",
    "import utils\n",
    "import torch.nn.functional as F\n",
    "import math\n",
    "import random\n",
    "import utils, models"
   ]
  },
  {
   "cell_type": "code",
   "execution_count": 4,
   "id": "ac7c6654",
   "metadata": {},
   "outputs": [
    {
     "name": "stderr",
     "output_type": "stream",
     "text": [
      "100%|████████████████████████████████████████████████████████████████████████████████████████████████████████████████████████████████████████████████████████████████████████████████████████████████████| 7848/7848 [04:07<00:00, 31.77it/s]\n"
     ]
    }
   ],
   "source": [
    "# Generate training, validation and test sets\n",
    "all_objects, labels = utils.get_sets(path_enter = \"Data/\")\n",
    "X_training, Y_training, X_val, Y_val, X_test, Y_test = utils.split_sets(all_objects, labels)"
   ]
  },
  {
   "cell_type": "code",
   "execution_count": 91,
   "id": "f05dde11",
   "metadata": {},
   "outputs": [
    {
     "data": {
      "text/plain": [
       "(6, 15, 16, 42, 52, 53, 62, 64, 65, 67, 88, 90, 92, 95)"
      ]
     },
     "execution_count": 91,
     "metadata": {},
     "output_type": "execute_result"
    }
   ],
   "source": [
    "model.labeling_order"
   ]
  },
  {
   "cell_type": "code",
   "execution_count": 99,
   "id": "dc9b3ab7",
   "metadata": {},
   "outputs": [
    {
     "data": {
      "text/plain": [
       "tensor([0.0774, 0.0254, 0.0132, 0.0102, 0.0677, 0.4384, 0.0268, 0.1083, 0.0128,\n",
       "        0.0575, 0.0334, 0.0053, 0.0535, 0.0703])"
      ]
     },
     "execution_count": 99,
     "metadata": {},
     "output_type": "execute_result"
    }
   ],
   "source": [
    "unique_training, counts_training = np.unique( torch.tensor( Y_training ).view(1,-1).numpy(), return_counts = True )\n",
    "\n",
    "inverse_freqs =  1 / counts_training\n",
    "class_weights = inverse_freqs / np.sum(inverse_freqs)\n",
    "weights_tensor = torch.tensor(class_weights, dtype = torch.float32)\n",
    "\n",
    "weights_tensor"
   ]
  },
  {
   "cell_type": "code",
   "execution_count": 5,
   "id": "d719ba67",
   "metadata": {},
   "outputs": [
    {
     "data": {
      "text/plain": [
       "<All keys matched successfully>"
      ]
     },
     "execution_count": 5,
     "metadata": {},
     "output_type": "execute_result"
    }
   ],
   "source": [
    "# Define model\n",
    "input_dim = 6\n",
    "n_classes = 14\n",
    "d_model = 64\n",
    "nhead = 4\n",
    "num_layers = 2\n",
    "\n",
    "model = models.TransformerClassifier(input_dim, n_classes, d_model, nhead, num_layers)\n",
    "model.load_state_dict( torch.load(\"Different_Tests/Test_1/Models_Data/Model_Saved/model_epoch_48.pt\") )"
   ]
  },
  {
   "cell_type": "code",
   "execution_count": 11,
   "id": "cf1e0140",
   "metadata": {},
   "outputs": [
    {
     "name": "stdout",
     "output_type": "stream",
     "text": [
      "(6, 15, 16, 42, 52, 53, 62, 64, 65, 67, 88, 90, 92, 95)\n"
     ]
    }
   ],
   "source": [
    "labeling_order = model.labeling_order\n",
    "print(labeling_order)"
   ]
  },
  {
   "cell_type": "code",
   "execution_count": 18,
   "id": "a750faed",
   "metadata": {},
   "outputs": [
    {
     "name": "stderr",
     "output_type": "stream",
     "text": [
      "100%|████████████████████████████████████████████████████████████████████████████████████████████████████████████████████████████████████████████████████████████████████████████████████████████████████| 1570/1570 [00:37<00:00, 41.82it/s]\n"
     ]
    }
   ],
   "source": [
    "Y_pred_labels = []\n",
    "for i in tqdm( range( len(X_test) ) ):\n",
    "    Y_pred = model(X_test[i])\n",
    "    Y_pred_labels.append( Y_pred )\n",
    "Y_pred_labels = torch.cat(Y_pred_labels, dim = 0)"
   ]
  },
  {
   "cell_type": "code",
   "execution_count": 22,
   "id": "325d36f6",
   "metadata": {},
   "outputs": [
    {
     "data": {
      "text/plain": [
       "torch.Size([1570, 1])"
      ]
     },
     "execution_count": 22,
     "metadata": {},
     "output_type": "execute_result"
    }
   ],
   "source": [
    "max_indices = torch.argmax(Y_pred_labels, dim = 1).view(-1, 1)\n",
    "max_indices.shape"
   ]
  },
  {
   "cell_type": "code",
   "execution_count": 35,
   "id": "1b9091b6",
   "metadata": {},
   "outputs": [
    {
     "data": {
      "text/plain": [
       "tensor([[65],\n",
       "        [90],\n",
       "        [16],\n",
       "        ...,\n",
       "        [90],\n",
       "        [16],\n",
       "        [90]])"
      ]
     },
     "execution_count": 35,
     "metadata": {},
     "output_type": "execute_result"
    }
   ],
   "source": [
    "predicted_labeling = torch.tensor( [ labeling_order[ max_indices[i,:] ] for i in range(max_indices.shape[0]) ] ).view(-1,1)\n",
    "predicted_labeling"
   ]
  },
  {
   "cell_type": "code",
   "execution_count": 37,
   "id": "e8620c9a",
   "metadata": {},
   "outputs": [
    {
     "data": {
      "text/plain": [
       "tensor([[65],\n",
       "        [90],\n",
       "        [92],\n",
       "        ...,\n",
       "        [65],\n",
       "        [16],\n",
       "        [90]])"
      ]
     },
     "execution_count": 37,
     "metadata": {},
     "output_type": "execute_result"
    }
   ],
   "source": [
    "real_labeling = torch.tensor( Y_test ).view(-1,1)\n",
    "real_labeling"
   ]
  },
  {
   "cell_type": "code",
   "execution_count": 65,
   "id": "6ad2e721",
   "metadata": {},
   "outputs": [],
   "source": [
    "# Convert to numpy arrays\n",
    "y_pred = predicted_labeling.view(1,-1).numpy()\n",
    "y_true = real_labeling.view(1,-1).numpy()"
   ]
  },
  {
   "cell_type": "code",
   "execution_count": 70,
   "id": "738139f1",
   "metadata": {},
   "outputs": [
    {
     "data": {
      "text/plain": [
       "(array([ 6, 15, 16, 42, 52, 53, 62, 64, 65, 67, 88, 90, 92, 95]),\n",
       " array([ 26, 111, 174, 220,  36,   9, 112,  11, 223,  34,  77, 452,  55,\n",
       "         30]))"
      ]
     },
     "execution_count": 70,
     "metadata": {},
     "output_type": "execute_result"
    }
   ],
   "source": [
    "unique_values, unique_counts = np.unique(y_true, return_counts = True)\n",
    "\n",
    "unique_values, unique_counts"
   ]
  },
  {
   "cell_type": "code",
   "execution_count": 84,
   "id": "ec511b70",
   "metadata": {},
   "outputs": [
    {
     "data": {
      "text/plain": [
       "(array([16, 65, 88, 90]), array([ 275,  225,   61, 1009]))"
      ]
     },
     "execution_count": 84,
     "metadata": {},
     "output_type": "execute_result"
    }
   ],
   "source": [
    "unique_values, unique_counts = np.unique(y_pred, return_counts = True)\n",
    "\n",
    "unique_values, unique_counts"
   ]
  },
  {
   "cell_type": "code",
   "execution_count": 83,
   "id": "cf898ecc",
   "metadata": {},
   "outputs": [
    {
     "data": {
      "text/plain": [
       "array([90, 65, 90, 90, 90, 90, 90, 65, 90, 90, 90, 90, 90, 90, 65, 90, 90,\n",
       "       90, 90, 90, 90, 90, 90, 90, 90, 90, 90, 90, 90, 90, 90, 90, 90, 90,\n",
       "       90, 90, 65, 90, 90, 90, 90, 90, 90, 90, 65, 90, 90, 90, 90, 90, 90,\n",
       "       90, 90, 90, 90, 90, 90, 90, 90, 90, 90, 90, 90, 90, 90, 90, 90, 90,\n",
       "       90, 90, 90, 90, 90, 90, 90, 90, 90, 90, 90, 90, 90, 90, 90, 90, 90,\n",
       "       90, 65, 90, 90, 90, 90, 90, 90, 90, 90, 90, 90, 90, 90, 90, 16, 90,\n",
       "       90, 90, 90, 65, 90, 90, 90, 90, 90, 90, 90, 90, 90, 90, 90, 90, 90,\n",
       "       90, 90, 90, 90, 90, 90, 90, 90, 90, 90, 90, 90, 90, 90, 90, 90, 90,\n",
       "       90, 90, 90, 90, 90, 90, 90, 90, 90, 90, 90, 90, 90, 90, 65, 90, 90,\n",
       "       90, 90, 90, 90, 90, 90, 90, 90, 90, 90, 90, 90, 65, 90, 90, 90, 90,\n",
       "       90, 90, 90, 90, 90, 90, 90, 90, 90, 90, 90, 90, 90, 90, 90, 90, 90,\n",
       "       90, 90, 90, 65, 90, 90, 90, 90, 90, 90, 90, 90, 90, 90, 90, 90, 90,\n",
       "       90, 16, 65, 90, 90, 65, 90, 90, 90, 90, 90, 90, 90, 90, 90, 65, 90,\n",
       "       90, 90, 90, 90, 90, 65, 90, 90, 90, 90, 90, 90, 90, 90, 90, 90, 90,\n",
       "       90, 90, 90, 90, 90, 90, 90, 90, 90, 90, 90, 90, 90, 90, 90, 90, 90,\n",
       "       90, 90, 90, 90, 90, 90, 90, 90, 90, 90, 90, 90, 90, 90, 90, 90, 90,\n",
       "       90, 90, 90, 90, 90, 90, 90, 90, 90, 90, 90, 90, 90, 90, 90, 90, 90,\n",
       "       90, 90, 90, 90, 90, 90, 90, 90, 90, 90, 90, 16, 90, 90, 90, 90, 90,\n",
       "       90, 90, 90, 90, 90, 90, 90, 90, 90, 90, 90, 90, 90, 90, 90, 90, 90,\n",
       "       90, 90, 90, 90, 90, 90, 90, 90, 90, 90, 90, 65, 90, 90, 90, 90, 90,\n",
       "       90, 90, 90, 90, 90, 65, 90, 16, 90, 90, 90, 90, 90, 90, 90, 90, 90,\n",
       "       90, 90, 90, 90, 90, 90, 90, 90, 90, 90, 90, 65, 90, 90, 65, 90, 90,\n",
       "       90, 16, 90, 90, 65, 90, 90, 90, 90, 90, 65, 90, 90, 90, 90, 90, 90,\n",
       "       90, 90, 90, 90, 90, 90, 90, 90, 90, 90, 90, 90, 90, 90, 90, 90, 90,\n",
       "       90, 90, 90, 90, 90, 90, 90, 90, 90, 90, 90, 90, 65, 90, 90, 90, 90,\n",
       "       90, 90, 90, 90, 90, 90, 90, 90, 90, 90, 90, 90, 90, 65, 90, 90, 90,\n",
       "       90, 65, 90, 90, 90, 90, 90, 90, 65, 90])"
      ]
     },
     "execution_count": 83,
     "metadata": {},
     "output_type": "execute_result"
    }
   ],
   "source": [
    "y_pred[y_true == 90]"
   ]
  }
 ],
 "metadata": {
  "kernelspec": {
   "display_name": "Python 3 (ipykernel)",
   "language": "python",
   "name": "python3"
  },
  "language_info": {
   "codemirror_mode": {
    "name": "ipython",
    "version": 3
   },
   "file_extension": ".py",
   "mimetype": "text/x-python",
   "name": "python",
   "nbconvert_exporter": "python",
   "pygments_lexer": "ipython3",
   "version": "3.8.10"
  }
 },
 "nbformat": 4,
 "nbformat_minor": 5
}
