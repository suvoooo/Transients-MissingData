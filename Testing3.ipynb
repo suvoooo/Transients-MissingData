{
 "cells": [
  {
   "cell_type": "code",
   "execution_count": 1,
   "id": "37fa0bf1",
   "metadata": {},
   "outputs": [
    {
     "name": "stderr",
     "output_type": "stream",
     "text": [
      "/home/toni/.local/lib/python3.8/site-packages/tqdm/auto.py:22: TqdmWarning: IProgress not found. Please update jupyter and ipywidgets. See https://ipywidgets.readthedocs.io/en/stable/user_install.html\n",
      "  from .autonotebook import tqdm as notebook_tqdm\n"
     ]
    }
   ],
   "source": [
    "import numpy as np\n",
    "import pandas as pd\n",
    "import torch\n",
    "import torch.nn as nn\n",
    "import matplotlib.pyplot as plt\n",
    "import os\n",
    "import sys\n",
    "from tqdm import tqdm\n",
    "import utils, models\n",
    "import torch.nn.functional as F\n",
    "import math\n",
    "import random\n",
    "import gpytorch"
   ]
  },
  {
   "cell_type": "code",
   "execution_count": 2,
   "id": "c994b4fc",
   "metadata": {},
   "outputs": [],
   "source": [
    "def install_package(package):\n",
    "    import sys\n",
    "    !{sys.executable} -m pip install package"
   ]
  },
  {
   "cell_type": "code",
   "execution_count": 3,
   "id": "6010612c",
   "metadata": {},
   "outputs": [
    {
     "name": "stdout",
     "output_type": "stream",
     "text": [
      "(1421705, 6) (7848, 12)\n"
     ]
    }
   ],
   "source": [
    "training_set = pd.read_csv(\"Data/training_set.csv\")\n",
    "training_set_metadata = pd.read_csv(\"Data/training_set_metadata.csv\")\n",
    "\n",
    "print(training_set.shape, training_set_metadata.shape)"
   ]
  },
  {
   "cell_type": "code",
   "execution_count": 4,
   "id": "6da3a4e8",
   "metadata": {},
   "outputs": [],
   "source": [
    "data_obj, label = utils.load_passbands_list(path = \"Data/Data_as_h5/obj_passbands.h5\", objid = 615, path_enter = \"Data/\")"
   ]
  },
  {
   "cell_type": "code",
   "execution_count": 5,
   "id": "f733c564",
   "metadata": {},
   "outputs": [],
   "source": [
    "N = 1000\n",
    "\n",
    "times_obj = torch.cat( [ obj[:,0:1] for obj in data_obj ], dim = 0 )\n",
    "times_obj = (times_obj.flatten())[ torch.argsort( times_obj.flatten() ) ].view(-1,1)\n",
    "\n",
    "min_time, max_time = torch.min(times_obj), torch.max(times_obj)\n",
    "\n",
    "times_obj_extra = torch.linspace(min_time, max_time, N).view(-1,1)\n",
    "\n",
    "new_time = torch.cat( (times_obj, times_obj_extra), dim = 0 )\n",
    "new_time = (new_time.flatten())[ torch.argsort( new_time.flatten() ) ].view(-1,1)"
   ]
  },
  {
   "cell_type": "code",
   "execution_count": 44,
   "id": "613843aa",
   "metadata": {},
   "outputs": [],
   "source": [
    "# Specify the passband\n",
    "passband = 0\n",
    "\n",
    "# initialize likelihood and model\n",
    "likelihood = gpytorch.likelihoods.GaussianLikelihood()\n",
    "model = models.ExactGPModel(train_x = data_obj[passband][:,0:1].flatten(), train_y = data_obj[passband][:,1:2].flatten(), likelihood = likelihood)"
   ]
  },
  {
   "cell_type": "code",
   "execution_count": 45,
   "id": "a3e84d63",
   "metadata": {},
   "outputs": [],
   "source": [
    "observed_pred = utils.train_GP_and_eval(model = model, data_obj = data_obj, passband = passband, new_time = new_time, likelihood = likelihood, num_iterations = 100)"
   ]
  },
  {
   "cell_type": "code",
   "execution_count": 46,
   "id": "a4346df9",
   "metadata": {},
   "outputs": [
    {
     "data": {
      "image/png": "[encoded data removed]",
      "text/plain": [
       "<Figure size 640x480 with 1 Axes>"
      ]
     },
     "metadata": {},
     "output_type": "display_data"
    }
   ],
   "source": [
    "plt.plot(observed_pred)\n",
    "plt.show()"
   ]
  },
  {
   "cell_type": "code",
   "execution_count": 42,
   "id": "3971e04a",
   "metadata": {},
   "outputs": [
    {
     "data": {
      "image/png": "[encoded data removed]",
      "text/plain": [
       "<Figure size 640x480 with 1 Axes>"
      ]
     },
     "metadata": {},
     "output_type": "display_data"
    }
   ],
   "source": [
    "plt.plot(observed_pred)\n",
    "plt.show()"
   ]
  },
  {
   "cell_type": "code",
   "execution_count": 10,
   "id": "fb6ce86c",
   "metadata": {},
   "outputs": [
    {
     "name": "stdout",
     "output_type": "stream",
     "text": [
      "(1421705, 6) (7848, 12)\n"
     ]
    },
    {
     "name": "stderr",
     "output_type": "stream",
     "text": [
      "100%|████████████████████████████████████████████████████████████████████████████████████████████████████████████████████████████████████████████████████████████████████████████████████████████████████| 7848/7848 [01:49<00:00, 71.52it/s]"
     ]
    },
    {
     "name": "stdout",
     "output_type": "stream",
     "text": [
      "Total minimum time:  59580.03515625\n",
      "Total maximum time:  60674.36328125\n"
     ]
    },
    {
     "name": "stderr",
     "output_type": "stream",
     "text": [
      "\n"
     ]
    }
   ],
   "source": [
    "# First, extract minimum and maximum times from all the entire data\n",
    "\n",
    "training_set = pd.read_csv(\"Data/training_set.csv\")\n",
    "training_set_metadata = pd.read_csv(\"Data/training_set_metadata.csv\")\n",
    "\n",
    "print(training_set.shape, training_set_metadata.shape)\n",
    "\n",
    "obj_ids = training_set_metadata[\"object_id\"].values.tolist()\n",
    "\n",
    "min_times, max_times = [], []\n",
    "\n",
    "for i in tqdm(range( len(obj_ids) ) ):\n",
    "    data_obj, label = utils.load_passbands_list(path = \"Data/Data_as_h5/obj_passbands.h5\", objid = obj_ids[i], path_enter = \"Data/\")\n",
    "    min_times.append( float( torch.min( torch.cat( [ obj[:,0:1] for obj in data_obj ], dim = 0 ).flatten() ) ) )\n",
    "    max_times.append( float( torch.max( torch.cat( [ obj[:,0:1] for obj in data_obj ], dim = 0 ).flatten() ) ) )\n",
    "\n",
    "general_min, general_max = np.min(min_times), np.max(max_times)\n",
    "\n",
    "print(\"Total minimum time: \", general_min)\n",
    "print(\"Total maximum time: \", general_max)"
   ]
  },
  {
   "cell_type": "code",
   "execution_count": 14,
   "id": "5041e48c",
   "metadata": {},
   "outputs": [],
   "source": [
    "new_time = torch.linspace( general_min, general_max, 5000 )"
   ]
  },
  {
   "cell_type": "code",
   "execution_count": 37,
   "id": "3903bd0d",
   "metadata": {},
   "outputs": [
    {
     "name": "stderr",
     "output_type": "stream",
     "text": [
      "100%|██████████████████████████████████████████████████████████████████████████████████████████████████████████████████████████████████████████████████████████████████████████████████████████████████████████| 3/3 [01:41<00:00, 33.98s/it]\n"
     ]
    }
   ],
   "source": [
    "all_tensors, all_labels = [], []\n",
    "#for i in tqdm( range( len(obj_ids) ) ):\n",
    "for i in tqdm( range( 3 ) ):\n",
    "    # Specify an object\n",
    "    data_obj, label = utils.load_passbands_list(path = \"Data/Data_as_h5/obj_passbands.h5\", objid = obj_ids[i], path_enter = \"Data/\")\n",
    "    all_labels.append( label )\n",
    "    # Now, go through all the passbands and adjust the models\n",
    "    pred_passbands = []\n",
    "    for j in range(0, 6):\n",
    "        # Initialize likelihood and model\n",
    "        likelihood = gpytorch.likelihoods.GaussianLikelihood()\n",
    "        model = models.ExactGPModel(train_x = data_obj[j][:,0:1].flatten(), train_y = data_obj[j][:,1:2].flatten(), likelihood = likelihood)\n",
    "        \n",
    "        observed_pred = utils.train_GP_and_eval(model = model, data_obj = data_obj, passband = j, new_time = new_time, likelihood = likelihood, num_iterations = 1000)\n",
    "        pred_passbands.append( observed_pred )\n",
    "    pred_passbands = torch.stack( pred_passbands, dim = 1 ).unsqueeze(0)\n",
    "    all_tensors.append( pred_passbands )\n",
    "all_tensors = torch.cat(all_tensors, dim = 0)\n",
    "all_labels = torch.tensor(all_labels).view(-1,1)"
   ]
  },
  {
   "cell_type": "code",
   "execution_count": 35,
   "id": "2a402a1a",
   "metadata": {},
   "outputs": [
    {
     "data": {
      "text/plain": [
       "torch.Size([3, 5000, 6])"
      ]
     },
     "execution_count": 35,
     "metadata": {},
     "output_type": "execute_result"
    }
   ],
   "source": [
    "all_tensors.shape"
   ]
  },
  {
   "cell_type": "code",
   "execution_count": 38,
   "id": "33b0c0df",
   "metadata": {},
   "outputs": [
    {
     "data": {
      "text/plain": [
       "torch.Size([3, 1])"
      ]
     },
     "execution_count": 38,
     "metadata": {},
     "output_type": "execute_result"
    }
   ],
   "source": [
    "all_labels.shape"
   ]
  },
  {
   "cell_type": "code",
   "execution_count": 43,
   "id": "37514b2e",
   "metadata": {},
   "outputs": [
    {
     "data": {
      "text/plain": [
       "72"
      ]
     },
     "execution_count": 43,
     "metadata": {},
     "output_type": "execute_result"
    }
   ],
   "source": [
    "sys.getsizeof(all_tensors)"
   ]
  }
 ],
 "metadata": {
  "kernelspec": {
   "display_name": "Python 3 (ipykernel)",
   "language": "python",
   "name": "python3"
  },
  "language_info": {
   "codemirror_mode": {
    "name": "ipython",
    "version": 3
   },
   "file_extension": ".py",
   "mimetype": "text/x-python",
   "name": "python",
   "nbconvert_exporter": "python",
   "pygments_lexer": "ipython3",
   "version": "3.8.10"
  }
 },
 "nbformat": 4,
 "nbformat_minor": 5
}
